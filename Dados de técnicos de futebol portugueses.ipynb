{
 "cells": [
  {
   "cell_type": "code",
   "execution_count": 1,
   "id": "85ed4760",
   "metadata": {},
   "outputs": [],
   "source": [
    "import pandas as pd\n",
    "import requests"
   ]
  },
  {
   "cell_type": "code",
   "execution_count": 2,
   "id": "9f97aae6",
   "metadata": {},
   "outputs": [],
   "source": [
    "url = \"https://pt.wikipedia.org/wiki/Paulo_Fonseca\"\n",
    "url2 = 'https://pt.wikipedia.org/wiki/Jorge_Jesus'\n",
    "url3= 'https://en.wikipedia.org/wiki/Abel_Ferreira'\n",
    "url4= 'https://pt.wikipedia.org/wiki/V%C3%ADtor_Pereira'\n",
    "url5= 'https://en.wikipedia.org/wiki/Lu%C3%ADs_Castro_(footballer,_born_1961)'"
   ]
  },
  {
   "cell_type": "code",
   "execution_count": null,
   "id": "b4adf4be",
   "metadata": {},
   "outputs": [],
   "source": [
    "r = requests.get(url)\n",
    "r2 = requests.get(url2)\n",
    "r3 = requests.get(url3)\n",
    "r4 = requests.get(url4)\n",
    "r5 = requests.get(url5)"
   ]
  },
  {
   "cell_type": "code",
   "execution_count": null,
   "id": "cba72153",
   "metadata": {},
   "outputs": [],
   "source": [
    "pf = pd.read_html(r.text, header=1)\n",
    "jj = pd.read_html(r2.text, header=1)\n",
    "af = pd.read_html(r3.text, header=1)\n",
    "vp = pd.read_html(r4.text, header=1)\n",
    "lc = pd.read_html(r5.text, header=1)"
   ]
  },
  {
   "cell_type": "code",
   "execution_count": null,
   "id": "268b7f96",
   "metadata": {},
   "outputs": [],
   "source": [
    "len(pf)"
   ]
  },
  {
   "cell_type": "code",
   "execution_count": null,
   "id": "f95191df",
   "metadata": {},
   "outputs": [],
   "source": [
    "PF = pf[1]\n",
    "JJ=jj[1]\n",
    "AF = af[1]\n",
    "VP=vp[2]\n",
    "LC = lc[1]"
   ]
  },
  {
   "cell_type": "code",
   "execution_count": null,
   "id": "af09f3f9",
   "metadata": {},
   "outputs": [],
   "source": [
    "PF"
   ]
  },
  {
   "cell_type": "code",
   "execution_count": null,
   "id": "99c41d6f",
   "metadata": {},
   "outputs": [],
   "source": [
    "JJ"
   ]
  },
  {
   "cell_type": "code",
   "execution_count": null,
   "id": "d2e8cbf6",
   "metadata": {},
   "outputs": [],
   "source": [
    "AF= AF.rename(columns={\".mw-parser-output .tooltip-dotted{border-bottom:1px dotted;cursor:help}G\": \"G\", 'Win %':'%'})\n",
    "AF"
   ]
  },
  {
   "cell_type": "code",
   "execution_count": null,
   "id": "40c39eef",
   "metadata": {},
   "outputs": [],
   "source": [
    "VP"
   ]
  },
  {
   "cell_type": "code",
   "execution_count": null,
   "id": "d0fadcfb",
   "metadata": {},
   "outputs": [],
   "source": [
    "LC=LC.rename(columns={\".mw-parser-output .tooltip-dotted{border-bottom:1px dotted;cursor:help} G\": \"G\"})\n",
    "LC= LC.drop(['Nat'], axis=1)\n",
    "LC"
   ]
  },
  {
   "cell_type": "code",
   "execution_count": null,
   "id": "7b0cd9c3",
   "metadata": {},
   "outputs": [],
   "source": [
    "print(AF.columns.tolist())"
   ]
  },
  {
   "cell_type": "code",
   "execution_count": null,
   "id": "d5d89960",
   "metadata": {},
   "outputs": [],
   "source": [
    "print ('Aproveitamento dos técnicos Portugueses na carreira')\n",
    "print('Paulo Fonseca',PF['%'][10],'%')\n",
    "print('Jorge Jesus',JJ['%'][17],'%')\n",
    "print('Abel Ferreira', AF['Win\\xa0%'][7],'%')\n",
    "print('Vitor Pereira', VP['Aproveitamento:'][11],'%')\n",
    "print('Luis Castro', LC['Win\\xa0%'][14],'%')"
   ]
  },
  {
   "cell_type": "code",
   "execution_count": null,
   "id": "a5c25ba7",
   "metadata": {},
   "outputs": [],
   "source": [
    "print ('Média de gols feitos dos técnicos Portugueses na carreira')\n",
    "print('Paulo Fonseca',round(PF['GP'][10]/PF['J'][10],2))\n",
    "print('Jorge Jesus',round(JJ['GP'][17]/JJ['J'][17],2))\n",
    "print('Abel Ferreira', round(AF['GF'][7]/AF['G'][7],2))\n",
    "print('Vitor Pereira', round(VP['GP'][11]/VP['J'][11],2))\n",
    "print('Luis Castro', round(LC['GF'][14]/LC['G'][14],2))"
   ]
  }
 ],
 "metadata": {
  "kernelspec": {
   "display_name": "Python 3 (ipykernel)",
   "language": "python",
   "name": "python3"
  },
  "language_info": {
   "codemirror_mode": {
    "name": "ipython",
    "version": 3
   },
   "file_extension": ".py",
   "mimetype": "text/x-python",
   "name": "python",
   "nbconvert_exporter": "python",
   "pygments_lexer": "ipython3",
   "version": "3.9.12"
  }
 },
 "nbformat": 4,
 "nbformat_minor": 5
}
